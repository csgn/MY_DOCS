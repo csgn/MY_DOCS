{
  "nbformat": 4,
  "nbformat_minor": 0,
  "metadata": {
    "colab": {
      "name": "spiral.ipynb",
      "provenance": [],
      "collapsed_sections": [],
      "include_colab_link": true
    },
    "kernelspec": {
      "name": "python3",
      "display_name": "Python 3"
    }
  },
  "cells": [
    {
      "cell_type": "markdown",
      "metadata": {
        "id": "view-in-github",
        "colab_type": "text"
      },
      "source": [
        "<a href=\"https://colab.research.google.com/github/arsen-git/Colaboratory-Repo/blob/master/spiral.ipynb\" target=\"_parent\"><img src=\"https://colab.research.google.com/assets/colab-badge.svg\" alt=\"Open In Colab\"/></a>"
      ]
    },
    {
      "cell_type": "code",
      "metadata": {
        "id": "yWR7Prroyu9l",
        "colab_type": "code",
        "colab": {}
      },
      "source": [
        "import numpy as np\n",
        "\n",
        "from google.colab import drive\n",
        "drive.mount('/content/drive')"
      ],
      "execution_count": 0,
      "outputs": []
    },
    {
      "cell_type": "code",
      "metadata": {
        "id": "6281qpTkjFRp",
        "colab_type": "code",
        "colab": {}
      },
      "source": [
        "def ZeroLocation(matrix):\n",
        "    for i in range(matrix.shape[0]):\n",
        "        for j in range(matrix.shape[1]):\n",
        "            if matrix[i][j] == 0:\n",
        "                return (i, j)\n",
        "\n",
        "    return (-1, -1)"
      ],
      "execution_count": 0,
      "outputs": []
    },
    {
      "cell_type": "code",
      "metadata": {
        "id": "cLCAHCchVUEl",
        "colab_type": "code",
        "colab": {}
      },
      "source": [
        "def HowManyZero(matrix):\n",
        "    count_zero, a = 0, 0\n",
        "    for i in range(len(matrix[0])):\n",
        "        if matrix[a][i] == 0:\n",
        "            count_zero += 1\n",
        "        else:\n",
        "            a += 1\n",
        "            i = 0\n",
        "\n",
        "    return count_zero"
      ],
      "execution_count": 0,
      "outputs": []
    },
    {
      "cell_type": "code",
      "metadata": {
        "id": "4l3Ld184UtS4",
        "colab_type": "code",
        "colab": {}
      },
      "source": [
        "def Fill(matrix, progress, total_zero, rowL, colL):\n",
        "    \"\"\" Vertical filling operation. \"\"\"\n",
        "    for i in range(total_zero):\n",
        "        matrix[0+rowL][i+colL] = progress\n",
        "        progress += 1\n",
        "    \n",
        "    return matrix, progress"
      ],
      "execution_count": 0,
      "outputs": []
    },
    {
      "cell_type": "code",
      "metadata": {
        "id": "eQPOxlerUZqN",
        "colab_type": "code",
        "colab": {}
      },
      "source": [
        "def Reverse(matrix):\n",
        "    \"\"\" Reverse operation. \"\"\"\n",
        "    row, column = matrix.shape[0], matrix.shape[1]\n",
        "    new_matrix = np.zeros(row*column, dtype=int).reshape(row, column)\n",
        "    \n",
        "    r = 0\n",
        "    for i in range(row-1, -1, -1):\n",
        "        new_matrix[r] = matrix[i]\n",
        "        r+=1\n",
        "    \n",
        "    return new_matrix"
      ],
      "execution_count": 0,
      "outputs": []
    },
    {
      "cell_type": "code",
      "metadata": {
        "id": "YzX4bBF_YGns",
        "colab_type": "code",
        "colab": {}
      },
      "source": [
        "def Transpose(matrix):\n",
        "    \"\"\" Transposition of the matrix. \"\"\"\n",
        "    row, column = matrix.shape[0], matrix.shape[1]\n",
        "    new_matrix = np.zeros(row*column, dtype=int).reshape(column, row)\n",
        "\n",
        "    for i in range(column):\n",
        "        for j in range(row):\n",
        "            new_matrix[i][j] = matrix[j][i]\n",
        "    \n",
        "    return new_matrix"
      ],
      "execution_count": 0,
      "outputs": []
    },
    {
      "cell_type": "code",
      "metadata": {
        "id": "ZpxCXsNhTdSy",
        "colab_type": "code",
        "colab": {
          "base_uri": "https://localhost:8080/",
          "height": 283
        },
        "outputId": "520636a6-b43c-4367-ed9c-121cfa5e17fc"
      },
      "source": [
        "def main():\n",
        "    row, column, progress, count = 15, 15, 1, 0\n",
        "    matrix = np.zeros((row, column), dtype=int)\n",
        "    rowL, colL = ZeroLocation(matrix)\n",
        "\n",
        "    while rowL != -1 and colL != -1:\n",
        "        matrix = Reverse(Transpose(matrix))\n",
        "        total_zero = HowManyZero(matrix)\n",
        "        rowL, colL = ZeroLocation(matrix)\n",
        "        matrix, progress = Fill(matrix, progress, total_zero, rowL, colL)\n",
        "\n",
        "    while matrix[0][0] != 1:\n",
        "        matrix = Reverse(Transpose(matrix))\n",
        "    print(matrix)\n",
        "    \n",
        "if __name__ == '__main__':\n",
        "    main()"
      ],
      "execution_count": 30,
      "outputs": [
        {
          "output_type": "stream",
          "text": [
            "[[  1   2   3   4   5   6   7   8   9  10  11  12  13  14  15]\n",
            " [ 56  57  58  59  60  61  62  63  64  65  66  67  68  69  16]\n",
            " [ 55 104 105 106 107 108 109 110 111 112 113 114 115  70  17]\n",
            " [ 54 103 144 145 146 147 148 149 150 151 152 153 116  71  18]\n",
            " [ 53 102 143 176 177 178 179 180 181 182 183 154 117  72  19]\n",
            " [ 52 101 142 175 200 201 202 203 204 205 184 155 118  73  20]\n",
            " [ 51 100 141 174 199 216 217 218 219 206 185 156 119  74  21]\n",
            " [ 50  99 140 173 198 215 224 225 220 207 186 157 120  75  22]\n",
            " [ 49  98 139 172 197 214 223 222 221 208 187 158 121  76  23]\n",
            " [ 48  97 138 171 196 213 212 211 210 209 188 159 122  77  24]\n",
            " [ 47  96 137 170 195 194 193 192 191 190 189 160 123  78  25]\n",
            " [ 46  95 136 169 168 167 166 165 164 163 162 161 124  79  26]\n",
            " [ 45  94 135 134 133 132 131 130 129 128 127 126 125  80  27]\n",
            " [ 44  93  92  91  90  89  88  87  86  85  84  83  82  81  28]\n",
            " [ 43  42  41  40  39  38  37  36  35  34  33  32  31  30  29]]\n"
          ],
          "name": "stdout"
        }
      ]
    }
  ]
}