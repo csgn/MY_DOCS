{
 "cells": [
  {
   "cell_type": "code",
   "execution_count": 1,
   "metadata": {},
   "outputs": [],
   "source": [
    "import numpy as np"
   ]
  },
  {
   "cell_type": "markdown",
   "metadata": {},
   "source": [
    "# NUMPY-5 UNIVERSAL FUNCTIONS (EVRENSEL FONKSİYONLAR)"
   ]
  },
  {
   "cell_type": "markdown",
   "metadata": {},
   "source": [
    "•NumPy: sin, cos, exp gibi matematiksel fonksiyonlar sağlar.\n",
    "\n",
    "•Numpy içerisinde bunlara 'universal functions(ufunc)' denir.\n",
    "\n",
    "•NumPy içinde, bu fonksiyonlar bir dizi üzerinde çıkış olarak bir dizi\n",
    "üreten elementwise olarak çalışır."
   ]
  },
  {
   "cell_type": "code",
   "execution_count": 3,
   "metadata": {},
   "outputs": [
    {
     "data": {
      "text/plain": [
       "array([ 1,  4, 16, 25, 49])"
      ]
     },
     "execution_count": 3,
     "metadata": {},
     "output_type": "execute_result"
    }
   ],
   "source": [
    "a = np.array([1, 4, 16, 25, 49])\n",
    "a"
   ]
  },
  {
   "cell_type": "code",
   "execution_count": 4,
   "metadata": {},
   "outputs": [
    {
     "data": {
      "text/plain": [
       "array([1., 2., 4., 5., 7.])"
      ]
     },
     "execution_count": 4,
     "metadata": {},
     "output_type": "execute_result"
    }
   ],
   "source": [
    "np.sqrt(a)"
   ]
  },
  {
   "cell_type": "code",
   "execution_count": 5,
   "metadata": {},
   "outputs": [
    {
     "data": {
      "text/plain": [
       "array([2.71828183e+00, 5.45981500e+01, 8.88611052e+06, 7.20048993e+10,\n",
       "       1.90734657e+21])"
      ]
     },
     "execution_count": 5,
     "metadata": {},
     "output_type": "execute_result"
    }
   ],
   "source": [
    "np.exp(a)"
   ]
  },
  {
   "cell_type": "code",
   "execution_count": 6,
   "metadata": {},
   "outputs": [
    {
     "data": {
      "text/plain": [
       "array([1, 2, 3, 4, 5])"
      ]
     },
     "execution_count": 6,
     "metadata": {},
     "output_type": "execute_result"
    }
   ],
   "source": [
    "b = np.array([1, 2, 3, 4, 5])\n",
    "b"
   ]
  },
  {
   "cell_type": "code",
   "execution_count": 7,
   "metadata": {},
   "outputs": [
    {
     "data": {
      "text/plain": [
       "array([ 2,  6, 19, 29, 54])"
      ]
     },
     "execution_count": 7,
     "metadata": {},
     "output_type": "execute_result"
    }
   ],
   "source": [
    "np.add(b, a)"
   ]
  },
  {
   "cell_type": "markdown",
   "metadata": {},
   "source": [
    "• .add fonksiyonu şuna benzerdir: a+b"
   ]
  },
  {
   "cell_type": "markdown",
   "metadata": {},
   "source": [
    "__________________________________________________________________\n",
    "\n",
    "# Ayrıca Bakınız:\n",
    "\n",
    "\tall,\n",
    "\tany,\n",
    "\tapply_along_axis,\n",
    "\targmax,\n",
    "\targmin,\n",
    "\targsort,\n",
    "\taverage,\n",
    "\tbincount,\n",
    "\tceil,\n",
    "\tclip,\n",
    "\tconj,\n",
    "\tcorrcoef,\n",
    "\tcov,\n",
    "\tcross,\n",
    "\tcumprod,\n",
    "\tcumsum,\n",
    "\tdiff,\n",
    "\tdot,\n",
    "\tfloor,\t\n",
    "\tinner,\n",
    "\tinv,\n",
    "\tlexsort,\n",
    "\tmax,\n",
    "\tmaximum,\n",
    "\tmean,\n",
    "\tmedian,\n",
    "\tmin,\n",
    "\tminimum,\n",
    "\tnonzero,\n",
    "\touter,\n",
    "\tprod,\n",
    "\tre,\n",
    "\tround,\n",
    "\tsort,\n",
    "\tstd,\n",
    "\tsum,\n",
    "\ttrace,\n",
    "\ttranspose,\n",
    "\tvar,\n",
    "\tvdot,\n",
    "\tvectorize,\n",
    "\twhere"
   ]
  }
 ],
 "metadata": {
  "kernelspec": {
   "display_name": "Python 3",
   "language": "python",
   "name": "python3"
  },
  "language_info": {
   "codemirror_mode": {
    "name": "ipython",
    "version": 3
   },
   "file_extension": ".py",
   "mimetype": "text/x-python",
   "name": "python",
   "nbconvert_exporter": "python",
   "pygments_lexer": "ipython3",
   "version": "3.6.7"
  }
 },
 "nbformat": 4,
 "nbformat_minor": 2
}
