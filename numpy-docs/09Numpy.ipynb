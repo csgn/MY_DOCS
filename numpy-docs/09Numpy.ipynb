{
 "cells": [
  {
   "cell_type": "code",
   "execution_count": 1,
   "metadata": {},
   "outputs": [],
   "source": [
    "import numpy as np"
   ]
  },
  {
   "cell_type": "markdown",
   "metadata": {},
   "source": [
    "# NUMPY-9  SHAPE MANIPULATION (ŞEKİL MANİPÜLASYONU)"
   ]
  },
  {
   "cell_type": "markdown",
   "metadata": {},
   "source": [
    "### 3-Splitting one array into several smaller ones(Bir diziyi birkaç küçük gruba bölme)"
   ]
  },
  {
   "cell_type": "markdown",
   "metadata": {},
   "source": [
    "• hsplit'i kullanarak, bir diziyi yatay ekseni boyunca ya da belirterek bölebilirsiniz."
   ]
  },
  {
   "cell_type": "code",
   "execution_count": null,
   "metadata": {},
   "outputs": [],
   "source": [
    "a = np.floor(10*np.random.random((2, 12)))\n",
    "a"
   ]
  },
  {
   "cell_type": "code",
   "execution_count": 20,
   "metadata": {
    "scrolled": true
   },
   "outputs": [
    {
     "data": {
      "text/plain": [
       "[array([[5., 2., 7., 6., 9., 3.],\n",
       "        [6., 1., 6., 7., 2., 5.]]), array([[8., 1., 8., 6., 3., 8.],\n",
       "        [0., 0., 8., 7., 4., 2.]])]"
      ]
     },
     "execution_count": 20,
     "metadata": {},
     "output_type": "execute_result"
    }
   ],
   "source": [
    " np.hsplit(a, 2)"
   ]
  },
  {
   "cell_type": "markdown",
   "metadata": {},
   "source": [
    "• a yı 2 eş parçaya ayırır."
   ]
  },
  {
   "cell_type": "code",
   "execution_count": 21,
   "metadata": {},
   "outputs": [
    {
     "data": {
      "text/plain": [
       "[array([[5., 2., 7.],\n",
       "        [6., 1., 6.]]), array([[6.],\n",
       "        [7.]]), array([[9., 3., 8., 1., 8., 6., 3., 8.],\n",
       "        [2., 5., 0., 0., 8., 7., 4., 2.]])]"
      ]
     },
     "execution_count": 21,
     "metadata": {},
     "output_type": "execute_result"
    }
   ],
   "source": [
    "np.hsplit(a,(3,4))"
   ]
  },
  {
   "cell_type": "markdown",
   "metadata": {},
   "source": [
    "• a yı üçüncü ve dördüncü sütundan sonra ayırır."
   ]
  },
  {
   "cell_type": "code",
   "execution_count": 31,
   "metadata": {},
   "outputs": [
    {
     "data": {
      "text/plain": [
       "[array([[5., 2., 7., 6., 9., 3., 8., 1., 8., 6., 3., 8.]]),\n",
       " array([[6., 1., 6., 7., 2., 5., 0., 0., 8., 7., 4., 2.]])]"
      ]
     },
     "execution_count": 31,
     "metadata": {},
     "output_type": "execute_result"
    }
   ],
   "source": [
    "np.vsplit(a, 2)"
   ]
  },
  {
   "cell_type": "markdown",
   "metadata": {},
   "source": [
    "• vsplit, dikey eksen boyunca böler ve array_split, birinin hangi eksenin ayrılacağını belirlemesini sağlar."
   ]
  }
 ],
 "metadata": {
  "kernelspec": {
   "display_name": "Python 3",
   "language": "python",
   "name": "python3"
  },
  "language_info": {
   "codemirror_mode": {
    "name": "ipython",
    "version": 3
   },
   "file_extension": ".py",
   "mimetype": "text/x-python",
   "name": "python",
   "nbconvert_exporter": "python",
   "pygments_lexer": "ipython3",
   "version": "3.6.7"
  }
 },
 "nbformat": 4,
 "nbformat_minor": 2
}
